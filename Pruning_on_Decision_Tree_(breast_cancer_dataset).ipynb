{
  "nbformat": 4,
  "nbformat_minor": 0,
  "metadata": {
    "colab": {
      "name": "Pruning on Decision Tree (breast cancer dataset).ipynb",
      "provenance": [],
      "collapsed_sections": [],
      "authorship_tag": "ABX9TyPnmF2HJk6CB/CVMFQ0irWv",
      "include_colab_link": true
    },
    "kernelspec": {
      "name": "python3",
      "display_name": "Python 3"
    },
    "language_info": {
      "name": "python"
    }
  },
  "cells": [
    {
      "cell_type": "markdown",
      "metadata": {
        "id": "view-in-github",
        "colab_type": "text"
      },
      "source": [
        "<a href=\"https://colab.research.google.com/github/rahu06/Machine-Learning-Projects-using-PYTHON/blob/main/Pruning_on_Decision_Tree_(breast_cancer_dataset).ipynb\" target=\"_parent\"><img src=\"https://colab.research.google.com/assets/colab-badge.svg\" alt=\"Open In Colab\"/></a>"
      ]
    },
    {
      "cell_type": "code",
      "metadata": {
        "id": "mOHecYSoKJ9x"
      },
      "source": [
        "from sklearn.model_selection import train_test_split\n",
        "from sklearn.datasets import load_breast_cancer\n",
        "from sklearn.tree import DecisionTreeClassifier"
      ],
      "execution_count": null,
      "outputs": []
    },
    {
      "cell_type": "code",
      "metadata": {
        "id": "xCM7n4vJKbG2"
      },
      "source": [
        "X, y = load_breast_cancer(return_X_y=True)\n",
        "X_train, X_test, y_train, y_test = train_test_split(X, y)"
      ],
      "execution_count": null,
      "outputs": []
    },
    {
      "cell_type": "code",
      "metadata": {
        "colab": {
          "base_uri": "https://localhost:8080/"
        },
        "id": "_uSJDB5TKlAK",
        "outputId": "2bb0b3ed-915f-4ee1-f1ea-45abd1e9c1ae"
      },
      "source": [
        "clf = DecisionTreeClassifier()\n",
        "path = clf.cost_complexity_pruning_path(X_train, y_train)\n",
        "path"
      ],
      "execution_count": null,
      "outputs": [
        {
          "output_type": "execute_result",
          "data": {
            "text/plain": [
              "{'ccp_alphas': array([0.        , 0.00232744, 0.00312989, 0.00312989, 0.00417319,\n",
              "        0.00540617, 0.00602407, 0.00711339, 0.0133542 , 0.01340673,\n",
              "        0.0312989 , 0.03609325, 0.34109976]),\n",
              " 'impurities': array([0.        , 0.00930976, 0.01243965, 0.01556954, 0.01974273,\n",
              "        0.0251489 , 0.03117298, 0.03828636, 0.05164056, 0.06504729,\n",
              "        0.09634619, 0.13243944, 0.4735392 ])}"
            ]
          },
          "metadata": {
            "tags": []
          },
          "execution_count": 4
        }
      ]
    },
    {
      "cell_type": "code",
      "metadata": {
        "colab": {
          "base_uri": "https://localhost:8080/",
          "height": 283
        },
        "id": "WAd2FuSNK0e9",
        "outputId": "9f242263-9599-418c-e99a-eeea7d778449"
      },
      "source": [
        "import matplotlib.pyplot as plt\n",
        "q=path.ccp_alphas\n",
        "p=path.impurities\n",
        "plt.plot(q,p)"
      ],
      "execution_count": null,
      "outputs": [
        {
          "output_type": "execute_result",
          "data": {
            "text/plain": [
              "[<matplotlib.lines.Line2D at 0x7f208fcf4110>]"
            ]
          },
          "metadata": {
            "tags": []
          },
          "execution_count": 6
        },
        {
          "output_type": "display_data",
          "data": {
            "image/png": "[encoded data removed]",
            "text/plain": [
              "<Figure size 432x288 with 1 Axes>"
            ]
          },
          "metadata": {
            "tags": [],
            "needs_background": "light"
          }
        }
      ]
    },
    {
      "cell_type": "code",
      "metadata": {
        "id": "jspIA8FfLh32"
      },
      "source": [
        "clfs = []\n",
        "\n",
        "for u in q:\n",
        "    clf = DecisionTreeClassifier( ccp_alpha=u)\n",
        "    clf.fit(X_train, y_train)\n",
        "    clfs.append(clf)"
      ],
      "execution_count": null,
      "outputs": []
    },
    {
      "cell_type": "code",
      "metadata": {
        "colab": {
          "base_uri": "https://localhost:8080/"
        },
        "id": "dC7dCQrPMAFK",
        "outputId": "66713809-c2ae-4d82-9691-9e86a3503c6f"
      },
      "source": [
        "tree_depth=[i.tree_.max_depth for i in clfs]\n",
        "tree_depth"
      ],
      "execution_count": null,
      "outputs": [
        {
          "output_type": "execute_result",
          "data": {
            "text/plain": [
              "[6, 6, 5, 5, 5, 4, 4, 3, 3, 3, 2, 1, 0]"
            ]
          },
          "metadata": {
            "tags": []
          },
          "execution_count": 8
        }
      ]
    },
    {
      "cell_type": "code",
      "metadata": {
        "colab": {
          "base_uri": "https://localhost:8080/"
        },
        "id": "4MSRco65MWE6",
        "outputId": "583b9551-95c9-431f-a450-4032f7253794"
      },
      "source": [
        "from sklearn.metrics import accuracy_score\n",
        "acc=[accuracy_score(y_test,i.predict(X_test)) for i in clfs]\n",
        "acc\n"
      ],
      "execution_count": null,
      "outputs": [
        {
          "output_type": "execute_result",
          "data": {
            "text/plain": [
              "[0.9370629370629371,\n",
              " 0.9440559440559441,\n",
              " 0.9370629370629371,\n",
              " 0.9440559440559441,\n",
              " 0.9370629370629371,\n",
              " 0.951048951048951,\n",
              " 0.951048951048951,\n",
              " 0.951048951048951,\n",
              " 0.9230769230769231,\n",
              " 0.9230769230769231,\n",
              " 0.8741258741258742,\n",
              " 0.8741258741258742,\n",
              " 0.6643356643356644]"
            ]
          },
          "metadata": {
            "tags": []
          },
          "execution_count": 9
        }
      ]
    },
    {
      "cell_type": "code",
      "metadata": {
        "id": "DSixJlOvaHaX",
        "colab": {
          "base_uri": "https://localhost:8080/",
          "height": 283
        },
        "outputId": "66974673-070b-42e3-d3ab-5a69410ff8dd"
      },
      "source": [
        "plt.plot(q,acc)"
      ],
      "execution_count": null,
      "outputs": [
        {
          "output_type": "execute_result",
          "data": {
            "text/plain": [
              "[<matplotlib.lines.Line2D at 0x7f68e03cd2d0>]"
            ]
          },
          "metadata": {
            "tags": []
          },
          "execution_count": 42
        },
        {
          "output_type": "display_data",
          "data": {
            "image/png": "[encoded data removed]",
            "text/plain": [
              "<Figure size 432x288 with 1 Axes>"
            ]
          },
          "metadata": {
            "tags": [],
            "needs_background": "light"
          }
        }
      ]
    }
  ]
}