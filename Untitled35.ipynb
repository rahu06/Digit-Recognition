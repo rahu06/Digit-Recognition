{
  "nbformat": 4,
  "nbformat_minor": 0,
  "metadata": {
    "colab": {
      "name": "Untitled35.ipynb",
      "provenance": [],
      "toc_visible": true,
      "authorship_tag": "ABX9TyPSIMI+DxbsOUpsMjeIELeU",
      "include_colab_link": true
    },
    "kernelspec": {
      "display_name": "Python 3",
      "name": "python3"
    },
    "language_info": {
      "name": "python"
    }
  },
  "cells": [
    {
      "cell_type": "markdown",
      "metadata": {
        "id": "view-in-github",
        "colab_type": "text"
      },
      "source": [
        "<a href=\"https://colab.research.google.com/github/rahu06/Digit-Recognition/blob/main/Untitled35.ipynb\" target=\"_parent\"><img src=\"https://colab.research.google.com/assets/colab-badge.svg\" alt=\"Open In Colab\"/></a>"
      ]
    },
    {
      "cell_type": "code",
      "metadata": {
        "id": "sRUQJpqtdRGq"
      },
      "source": [
        "def linearregression(x,y,learningrate,epoch):\n",
        "  import numpy as np\n",
        "  m=0\n",
        "  c=0\n",
        "  (n,)=np.shape(y)\n",
        "  prediction =0\n",
        "  for i in range(epoch):\n",
        "    for j in range(n):\n",
        "      prediction=m*x[j]+c\n",
        "      e=prediction-y[j]\n",
        "      gm=-2*e*x[j]/n\n",
        "      gc=-2*e/n\n",
        "      m=m+(learningrate*gm)\n",
        "      c=c+(learningrate*gc)\n",
        "     \n",
        "  \n",
        "  return (m,c)  \n",
        "\n",
        "  \n",
        "  "
      ],
      "execution_count": 1,
      "outputs": []
    },
    {
      "cell_type": "markdown",
      "metadata": {
        "id": "wz8KZQhcfJCT"
      },
      "source": [
        ""
      ]
    },
    {
      "cell_type": "code",
      "metadata": {
        "colab": {
          "base_uri": "https://localhost:8080/",
          "height": 283
        },
        "id": "Zn0ZQFMxfuiR",
        "outputId": "49dd0371-aeb2-45e6-ba93-096e5bdfe36c"
      },
      "source": [
        "import numpy as np\n",
        "import matplotlib.pyplot as plt\n",
        "x2= np.random.rand(26)*100\n",
        "y2=np.random.rand(26)\n",
        "for i in range(26):\n",
        "    y2[i]=x2[i]+(np.random.rand()*20)\n",
        "    \n",
        "plt.scatter(x2,y2)"
      ],
      "execution_count": 3,
      "outputs": [
        {
          "output_type": "execute_result",
          "data": {
            "text/plain": [
              "<matplotlib.collections.PathCollection at 0x7fb36ce4cd50>"
            ]
          },
          "metadata": {},
          "execution_count": 3
        },
        {
          "output_type": "display_data",
          "data": {
            "image/png": "[encoded data removed]",
            "text/plain": [
              "<Figure size 432x288 with 1 Axes>"
            ]
          },
          "metadata": {
            "needs_background": "light"
          }
        }
      ]
    },
    {
      "cell_type": "code",
      "metadata": {
        "id": "zOz2UmxrfOZ_"
      },
      "source": [
        "def predict (x,m,c):\n",
        "  (n,)=np.shape(x)\n",
        "  p = np.empty(n)\n",
        "  for i in range(n):\n",
        "    p[i]=(m*x[i])+c\n",
        "  return (p)"
      ],
      "execution_count": 4,
      "outputs": []
    },
    {
      "cell_type": "code",
      "metadata": {
        "id": "3DqsvNUbfpDF"
      },
      "source": [
        "(m,c)=linearregression(x2,y2,0.001,1000)\n"
      ],
      "execution_count": 19,
      "outputs": []
    },
    {
      "cell_type": "code",
      "metadata": {
        "id": "IUkALlFdqdWh"
      },
      "source": [
        "p=predict (x2,m,c)"
      ],
      "execution_count": 20,
      "outputs": []
    },
    {
      "cell_type": "code",
      "metadata": {
        "colab": {
          "base_uri": "https://localhost:8080/",
          "height": 283
        },
        "id": "7isORHM0UX7x",
        "outputId": "d05b8cf7-208a-4c46-c11f-f236313c9c4b"
      },
      "source": [
        "plt.scatter(x2,y2)\n",
        "plt.plot(x2,p)\n"
      ],
      "execution_count": 21,
      "outputs": [
        {
          "output_type": "execute_result",
          "data": {
            "text/plain": [
              "[<matplotlib.lines.Line2D at 0x7fb36c67ac90>]"
            ]
          },
          "metadata": {},
          "execution_count": 21
        },
        {
          "output_type": "display_data",
          "data": {
            "image/png": "[encoded data removed]",
            "text/plain": [
              "<Figure size 432x288 with 1 Axes>"
            ]
          },
          "metadata": {
            "needs_background": "light"
          }
        }
      ]
    }
  ]
}